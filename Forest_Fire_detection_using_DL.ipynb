{
  "nbformat": 4,
  "nbformat_minor": 0,
  "metadata": {
    "colab": {
      "provenance": [],
      "gpuType": "T4"
    },
    "kernelspec": {
      "name": "python3",
      "display_name": "Python 3"
    },
    "language_info": {
      "name": "python"
    },
    "accelerator": "GPU"
  },
  "cells": [
    {
      "cell_type": "code",
      "execution_count": null,
      "metadata": {
        "colab": {
          "base_uri": "https://localhost:8080/"
        },
        "id": "KY9iEnRxDs-u",
        "outputId": "57fbdb0f-9c81-496a-f133-9d550ee00408"
      },
      "outputs": [
        {
          "output_type": "stream",
          "name": "stdout",
          "text": [
            "Path to dataset files: /kaggle/input/the-wildfire-dataset\n"
          ]
        }
      ],
      "source": [
        "import kagglehub\n",
        "\n",
        "# Download latest version\n",
        "path = kagglehub.dataset_download(\"elmadafri/the-wildfire-dataset\")\n",
        "\n",
        "print(\"Path to dataset files:\", path)"
      ]
    },
    {
      "cell_type": "code",
      "source": [
        "#importing necessary libraries\n",
        "import os\n",
        "import numpy as np\n",
        "#importing necessary libraries\n",
        "import os\n",
        "import numpy as np\n",
        "import matplotlib.pyplot as plt\n",
        "import tensorflow as tf\n",
        "import tensorflow.keras.preprocessing.image as imageDataGenerator\n",
        "import tensorflow.keras.models as sequential\n",
        "import tensorflow.keras.layers as layers\n",
        "from tensorflow.keras.models import Sequential\n",
        "from tensorflow.keras.layers import Conv2D, MaxPooling2D, Flatten, Dense, Dropout, Input\n"
      ],
      "metadata": {
        "id": "NOENFz5dHBCZ"
      },
      "execution_count": 23,
      "outputs": []
    },
    {
      "cell_type": "code",
      "source": [
        "# To ensure the GPU is present\n",
        "\n",
        "physical_devices = tf.config.experimental.list_physical_devices('GPU')\n",
        "\n",
        "if len(physical_devices) > 0:\n",
        "\n",
        "   tf.config.experimental.set_memory_growth(physical_devices[0], True)\n",
        "\n",
        "   print('GPU is Used!')\n",
        "\n",
        "else:\n",
        "\n",
        "   print('GPU is Unavailable!')\n"
      ],
      "metadata": {
        "colab": {
          "base_uri": "https://localhost:8080/"
        },
        "id": "bWr7Q9WHPRf0",
        "outputId": "7b828ba0-595c-44fe-c626-7fcc50da02bb"
      },
      "execution_count": 24,
      "outputs": [
        {
          "output_type": "stream",
          "name": "stdout",
          "text": [
            "GPU is Used!\n"
          ]
        }
      ]
    },
    {
      "cell_type": "code",
      "source": [
        "#Load and explore the dataset\n",
        "\n",
        "train_dir = '/root/.cache/kagglehub/datasets/elmadafri/the-wildfire-dataset/versions/3/the_wildfire_dataset_2n_version/train'\n",
        "\n",
        "val_dir = '/root/.cache/kagglehub/datasets/elmadafri/the-wildfire-dataset/versions/3/the_wildfire dataset 2n_version/val'\n",
        "\n",
        "test_dir = '/root/.cache/kagglehub/datasets/elmadafri/the-wildfire-dataset/versions/3/the_wildfire_dataset 2n_version/test'"
      ],
      "metadata": {
        "id": "CF53fiNaQg-y"
      },
      "execution_count": 50,
      "outputs": []
    },
    {
      "cell_type": "code",
      "source": [
        "# List all the classes\n",
        "\n",
        "classes = os.listdir (train_dir)\n",
        "\n",
        "num_classes = len(classes)\n",
        "\n",
        "#Display the class names\n",
        "\n",
        "print(f'Number of Classes: (num_classes)')\n",
        "\n",
        "print(f'Classes: (classes)')\n"
      ],
      "metadata": {
        "id": "BINMVg2_Ujt1"
      },
      "execution_count": null,
      "outputs": []
    },
    {
      "cell_type": "code",
      "source": [
        "#Let's visualize the images in the dataset\n",
        "\n",
        "plt.figure(figsize=(12, 10))\n",
        "\n",
        "for i in range(5):\n",
        "\n",
        "class_path = os.path.join(train_dir, classes [0])\n",
        "\n",
        "img_name = os.listdir(class_path) [i]\n",
        "\n",
        "img_path = os.path.join(class_path, img_name)\n",
        "\n",
        "img = plt.imread(img_path)\n",
        "\n",
        "plt.subplot(1, 5, i+1)\n",
        "\n",
        "plt.imshow(img)\n",
        "\n",
        "plt.title(f'{classes [0]} \\n shape: {img.shape}')\n",
        "\n",
        "plt.axis('off')\n",
        "\n",
        "plt.show()"
      ],
      "metadata": {
        "id": "sU2LfT4GVCr4"
      },
      "execution_count": null,
      "outputs": []
    }
  ]
}